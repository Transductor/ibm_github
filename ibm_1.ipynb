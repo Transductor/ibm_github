{
 "cells": [
  {
   "cell_type": "code",
   "execution_count": 1,
   "id": "64861bac-a99a-4b1b-8ab7-496e6ae521e1",
   "metadata": {},
   "outputs": [
    {
     "name": "stdout",
     "output_type": "stream",
     "text": [
      "hola mundo\n"
     ]
    }
   ],
   "source": [
    "print(\"hola mundo\")"
   ]
  },
  {
   "cell_type": "code",
   "execution_count": null,
   "id": "cb492a65-5c71-4347-acc9-270dbb1d9199",
   "metadata": {},
   "outputs": [],
   "source": []
  },
  {
   "cell_type": "code",
   "execution_count": null,
   "id": "43ab0ba4-494c-4d7c-ba72-a78c84cccc85",
   "metadata": {},
   "outputs": [],
   "source": []
  },
  {
   "cell_type": "code",
   "execution_count": 2,
   "id": "3f864a42-f5b0-443c-a69d-0fd6170dafd0",
   "metadata": {},
   "outputs": [
    {
     "name": "stdout",
     "output_type": "stream",
     "text": [
      "a\n",
      "\n",
      "o\n",
      "\n",
      "e\n",
      "\n",
      "u\n",
      "\n",
      "i\n",
      "\n"
     ]
    }
   ],
   "source": [
    "for c in [\"a\",\"o\",\"e\",\"u\",\"i\"]:print(c+\"\\n\")"
   ]
  },
  {
   "cell_type": "code",
   "execution_count": null,
   "id": "59cb274d-c358-41bd-b6c3-a44a9b372102",
   "metadata": {},
   "outputs": [],
   "source": []
  },
  {
   "cell_type": "markdown",
   "id": "2e293cd0-1acb-4f98-a442-9ce89cd28aca",
   "metadata": {},
   "source": [
    "### Pluto notebook"
   ]
  },
  {
   "cell_type": "code",
   "execution_count": 3,
   "id": "2a41306f-15fe-402f-8227-d677e1df7a5f",
   "metadata": {},
   "outputs": [
    {
     "data": {
      "text/plain": [
       "1"
      ]
     },
     "execution_count": 3,
     "metadata": {},
     "output_type": "execute_result"
    }
   ],
   "source": [
    "limit(sin(x)/x, x=0)"
   ]
  },
  {
   "cell_type": "code",
   "execution_count": 4,
   "id": "9bbbf66f-f6dd-44ab-b723-346d478e1229",
   "metadata": {},
   "outputs": [
    {
     "data": {
      "text/plain": [
       "1"
      ]
     },
     "execution_count": 4,
     "metadata": {},
     "output_type": "execute_result"
    }
   ],
   "source": [
    "limit(tan(x)/x, x=0)"
   ]
  },
  {
   "cell_type": "markdown",
   "id": "de471243-58f6-4976-a411-1b35b3fe1fe7",
   "metadata": {},
   "source": [
    "<a href=\"https://cognitiveclass.ai/\"> Cognitive Class</a>"
   ]
  },
  {
   "cell_type": "markdown",
   "id": "328753ef-de8d-4c75-9d40-194d0ff98ce0",
   "metadata": {},
   "source": [
    "Alt-H1\n",
    "------"
   ]
  },
  {
   "cell_type": "markdown",
   "id": "978aef24-0400-41db-8ca5-0509819ea747",
   "metadata": {},
   "source": [
    "Alt-H2\n",
    "======"
   ]
  },
  {
   "cell_type": "markdown",
   "id": "97b0508f-cff7-4041-8322-283db7189bc5",
   "metadata": {},
   "source": [
    "~~tomala~~"
   ]
  },
  {
   "cell_type": "markdown",
   "id": "29b031fb-3199-48c3-9c70-72cea366a05d",
   "metadata": {},
   "source": [
    "|operation|data|result|\n",
    "|---------|----|------|\n",
    "| + | 1,1 | 2 |\n",
    "| - | 1,10 | -9 |\n",
    "| * | 2,5 | 10 |\n",
    "| cos | pi | -1 |"
   ]
  },
  {
   "cell_type": "markdown",
   "id": "9ef61980-a1a7-4f64-acd1-66424c64af0e",
   "metadata": {
    "tags": []
   },
   "source": [
    "Some interesting links are \n",
    "\n",
    "<a href=\"https://github.com/jupyter/jupyter/wiki\"> Jupyter notebooks repository </a>\n",
    "\n",
    "<a href=\"https://nbviewer.jupyter.org/\"> Jupyter notebooks viewer </a>\n",
    "\n",
    "<a href=\"https://nbviewer.jupyter.org/github/Tanu-N-Prabhu/Python/blob/master/Exploratory_data_Analysis.ipynb\">Explaratory data analysis</a>\n",
    "\n",
    "<a href=\"https://nbviewer.jupyter.org/github/temporaer/tutorial_ml_gkbionics/blob/master/2%20-%20KMeans.ipynb\">Data integration and cleansing at a small scale</a>\n",
    "\n",
    "<a href=\"https://github.com/jupyter/jupyter/wiki\"> Clustering </a>\n",
    "\n",
    "<a href=\"https://www.kaggle.com/lalitharajesh/iris-dataset-exploratory-data-analysis\"> Iris data set </a>\n",
    "\n",
    "<a href=\"https://github.com/adam-p/markdown-here/wiki/Markdown-Cheatsheet\"> Markdown cheatsheet</a>\n",
    "\n",
    "<a href=\"https://cognitiveclass.ai/\">Cognitive class (online courses)</a>\n",
    "\n",
    "<a href=\"https://try.github.io/\">Github cheatsheet</a>"
   ]
  },
  {
   "cell_type": "code",
   "execution_count": null,
   "id": "db44e9e3-219d-4326-8b4e-0055635d8746",
   "metadata": {},
   "outputs": [],
   "source": []
  }
 ],
 "metadata": {
  "kernelspec": {
   "display_name": "SageMath 9.4",
   "language": "sage",
   "name": "sagemath"
  },
  "language_info": {
   "codemirror_mode": {
    "name": "ipython",
    "version": 3
   },
   "file_extension": ".py",
   "mimetype": "text/x-python",
   "name": "python",
   "nbconvert_exporter": "python",
   "pygments_lexer": "ipython3",
   "version": "3.10.4"
  }
 },
 "nbformat": 4,
 "nbformat_minor": 5
}
